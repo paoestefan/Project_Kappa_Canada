{
 "cells": [
  {
   "cell_type": "code",
   "execution_count": 1,
   "id": "light-suffering",
   "metadata": {},
   "outputs": [],
   "source": [
    "import pandas as pd\n",
    "import geopandas as gpd"
   ]
  },
  {
   "cell_type": "code",
   "execution_count": 4,
   "id": "plastic-milton",
   "metadata": {},
   "outputs": [],
   "source": [
    "info=pd.read_csv('canada_vehicles_project.csv')"
   ]
  },
  {
   "cell_type": "code",
   "execution_count": 5,
   "id": "gentle-belfast",
   "metadata": {},
   "outputs": [
    {
     "data": {
      "text/html": [
       "<div>\n",
       "<style scoped>\n",
       "    .dataframe tbody tr th:only-of-type {\n",
       "        vertical-align: middle;\n",
       "    }\n",
       "\n",
       "    .dataframe tbody tr th {\n",
       "        vertical-align: top;\n",
       "    }\n",
       "\n",
       "    .dataframe thead th {\n",
       "        text-align: right;\n",
       "    }\n",
       "</style>\n",
       "<table border=\"1\" class=\"dataframe\">\n",
       "  <thead>\n",
       "    <tr style=\"text-align: right;\">\n",
       "      <th></th>\n",
       "      <th>REF_DATE</th>\n",
       "      <th>GEO</th>\n",
       "      <th>Vehicle type</th>\n",
       "      <th>Origin of manufacture</th>\n",
       "      <th>Sales</th>\n",
       "      <th>VALUE</th>\n",
       "    </tr>\n",
       "  </thead>\n",
       "  <tbody>\n",
       "    <tr>\n",
       "      <th>0</th>\n",
       "      <td>2019-12</td>\n",
       "      <td>Canada</td>\n",
       "      <td>Total new motor vehicles</td>\n",
       "      <td>Total country of manufacture</td>\n",
       "      <td>Units</td>\n",
       "      <td>114045.0</td>\n",
       "    </tr>\n",
       "    <tr>\n",
       "      <th>1</th>\n",
       "      <td>2019-12</td>\n",
       "      <td>Canada</td>\n",
       "      <td>Total new motor vehicles</td>\n",
       "      <td>Total country of manufacture</td>\n",
       "      <td>Dollars</td>\n",
       "      <td>5283325.0</td>\n",
       "    </tr>\n",
       "    <tr>\n",
       "      <th>2</th>\n",
       "      <td>2019-12</td>\n",
       "      <td>Canada</td>\n",
       "      <td>Total new motor vehicles</td>\n",
       "      <td>North America</td>\n",
       "      <td>Units</td>\n",
       "      <td>84561.0</td>\n",
       "    </tr>\n",
       "    <tr>\n",
       "      <th>3</th>\n",
       "      <td>2019-12</td>\n",
       "      <td>Canada</td>\n",
       "      <td>Total new motor vehicles</td>\n",
       "      <td>North America</td>\n",
       "      <td>Dollars</td>\n",
       "      <td>4023353.0</td>\n",
       "    </tr>\n",
       "    <tr>\n",
       "      <th>4</th>\n",
       "      <td>2019-12</td>\n",
       "      <td>Canada</td>\n",
       "      <td>Total new motor vehicles</td>\n",
       "      <td>Total overseas</td>\n",
       "      <td>Units</td>\n",
       "      <td>29484.0</td>\n",
       "    </tr>\n",
       "  </tbody>\n",
       "</table>\n",
       "</div>"
      ],
      "text/plain": [
       "  REF_DATE     GEO              Vehicle type         Origin of manufacture  \\\n",
       "0  2019-12  Canada  Total new motor vehicles  Total country of manufacture   \n",
       "1  2019-12  Canada  Total new motor vehicles  Total country of manufacture   \n",
       "2  2019-12  Canada  Total new motor vehicles                 North America   \n",
       "3  2019-12  Canada  Total new motor vehicles                 North America   \n",
       "4  2019-12  Canada  Total new motor vehicles                Total overseas   \n",
       "\n",
       "     Sales      VALUE  \n",
       "0    Units   114045.0  \n",
       "1  Dollars  5283325.0  \n",
       "2    Units    84561.0  \n",
       "3  Dollars  4023353.0  \n",
       "4    Units    29484.0  "
      ]
     },
     "execution_count": 5,
     "metadata": {},
     "output_type": "execute_result"
    }
   ],
   "source": [
    "info.head()"
   ]
  },
  {
   "cell_type": "code",
   "execution_count": null,
   "id": "martial-chase",
   "metadata": {},
   "outputs": [],
   "source": []
  },
  {
   "cell_type": "code",
   "execution_count": null,
   "id": "electoral-fairy",
   "metadata": {},
   "outputs": [],
   "source": []
  },
  {
   "cell_type": "code",
   "execution_count": null,
   "id": "associate-redhead",
   "metadata": {},
   "outputs": [],
   "source": []
  },
  {
   "cell_type": "code",
   "execution_count": null,
   "id": "instant-content",
   "metadata": {},
   "outputs": [],
   "source": []
  },
  {
   "cell_type": "code",
   "execution_count": null,
   "id": "general-orleans",
   "metadata": {},
   "outputs": [],
   "source": []
  },
  {
   "cell_type": "code",
   "execution_count": null,
   "id": "regional-toilet",
   "metadata": {},
   "outputs": [],
   "source": []
  }
 ],
 "metadata": {
  "kernelspec": {
   "display_name": "Python 3",
   "language": "python",
   "name": "python3"
  },
  "language_info": {
   "codemirror_mode": {
    "name": "ipython",
    "version": 3
   },
   "file_extension": ".py",
   "mimetype": "text/x-python",
   "name": "python",
   "nbconvert_exporter": "python",
   "pygments_lexer": "ipython3",
   "version": "3.8.5"
  }
 },
 "nbformat": 4,
 "nbformat_minor": 5
}

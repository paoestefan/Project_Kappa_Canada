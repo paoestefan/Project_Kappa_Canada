{
 "cells": [
  {
   "cell_type": "code",
   "execution_count": 1,
   "id": "occupational-tennis",
   "metadata": {},
   "outputs": [],
   "source": [
    "import pandas as pd\n",
    "import geopandas as gpd"
   ]
  },
  {
   "cell_type": "code",
   "execution_count": 2,
   "id": "homeless-partnership",
   "metadata": {},
   "outputs": [],
   "source": [
    "info=pd.read_csv('canada_vehicles_project.csv')"
   ]
  },
  {
   "cell_type": "code",
   "execution_count": 3,
   "id": "following-daughter",
   "metadata": {},
   "outputs": [
    {
     "data": {
      "text/html": [
       "<div>\n",
       "<style scoped>\n",
       "    .dataframe tbody tr th:only-of-type {\n",
       "        vertical-align: middle;\n",
       "    }\n",
       "\n",
       "    .dataframe tbody tr th {\n",
       "        vertical-align: top;\n",
       "    }\n",
       "\n",
       "    .dataframe thead th {\n",
       "        text-align: right;\n",
       "    }\n",
       "</style>\n",
       "<table border=\"1\" class=\"dataframe\">\n",
       "  <thead>\n",
       "    <tr style=\"text-align: right;\">\n",
       "      <th></th>\n",
       "      <th>REF_DATE</th>\n",
       "      <th>GEO</th>\n",
       "      <th>Vehicle type</th>\n",
       "      <th>Origin of manufacture</th>\n",
       "      <th>Sales</th>\n",
       "      <th>VALUE</th>\n",
       "    </tr>\n",
       "  </thead>\n",
       "  <tbody>\n",
       "    <tr>\n",
       "      <th>0</th>\n",
       "      <td>2019-12</td>\n",
       "      <td>Canada</td>\n",
       "      <td>Total new motor vehicles</td>\n",
       "      <td>Total country of manufacture</td>\n",
       "      <td>Units</td>\n",
       "      <td>114045.0</td>\n",
       "    </tr>\n",
       "    <tr>\n",
       "      <th>1</th>\n",
       "      <td>2019-12</td>\n",
       "      <td>Canada</td>\n",
       "      <td>Total new motor vehicles</td>\n",
       "      <td>Total country of manufacture</td>\n",
       "      <td>Dollars</td>\n",
       "      <td>5283325.0</td>\n",
       "    </tr>\n",
       "    <tr>\n",
       "      <th>2</th>\n",
       "      <td>2019-12</td>\n",
       "      <td>Canada</td>\n",
       "      <td>Total new motor vehicles</td>\n",
       "      <td>North America</td>\n",
       "      <td>Units</td>\n",
       "      <td>84561.0</td>\n",
       "    </tr>\n",
       "    <tr>\n",
       "      <th>3</th>\n",
       "      <td>2019-12</td>\n",
       "      <td>Canada</td>\n",
       "      <td>Total new motor vehicles</td>\n",
       "      <td>North America</td>\n",
       "      <td>Dollars</td>\n",
       "      <td>4023353.0</td>\n",
       "    </tr>\n",
       "    <tr>\n",
       "      <th>4</th>\n",
       "      <td>2019-12</td>\n",
       "      <td>Canada</td>\n",
       "      <td>Total new motor vehicles</td>\n",
       "      <td>Total overseas</td>\n",
       "      <td>Units</td>\n",
       "      <td>29484.0</td>\n",
       "    </tr>\n",
       "  </tbody>\n",
       "</table>\n",
       "</div>"
      ],
      "text/plain": [
       "  REF_DATE     GEO              Vehicle type         Origin of manufacture  \\\n",
       "0  2019-12  Canada  Total new motor vehicles  Total country of manufacture   \n",
       "1  2019-12  Canada  Total new motor vehicles  Total country of manufacture   \n",
       "2  2019-12  Canada  Total new motor vehicles                 North America   \n",
       "3  2019-12  Canada  Total new motor vehicles                 North America   \n",
       "4  2019-12  Canada  Total new motor vehicles                Total overseas   \n",
       "\n",
       "     Sales      VALUE  \n",
       "0    Units   114045.0  \n",
       "1  Dollars  5283325.0  \n",
       "2    Units    84561.0  \n",
       "3  Dollars  4023353.0  \n",
       "4    Units    29484.0  "
      ]
     },
     "execution_count": 3,
     "metadata": {},
     "output_type": "execute_result"
    }
   ],
   "source": [
    "info.head()"
   ]
  },
  {
   "cell_type": "code",
   "execution_count": 4,
   "id": "christian-shell",
   "metadata": {},
   "outputs": [
    {
     "data": {
      "text/plain": [
       "REF_DATE                  0\n",
       "GEO                       0\n",
       "Vehicle type              0\n",
       "Origin of manufacture     0\n",
       "Sales                     0\n",
       "VALUE                    88\n",
       "dtype: int64"
      ]
     },
     "execution_count": 4,
     "metadata": {},
     "output_type": "execute_result"
    }
   ],
   "source": [
    "info.isnull().sum()"
   ]
  },
  {
   "cell_type": "code",
   "execution_count": 5,
   "id": "pharmaceutical-firmware",
   "metadata": {},
   "outputs": [
    {
     "data": {
      "text/plain": [
       "REF_DATE                   12\n",
       "GEO                        11\n",
       "Vehicle type                3\n",
       "Origin of manufacture       5\n",
       "Sales                       2\n",
       "VALUE                    2580\n",
       "dtype: int64"
      ]
     },
     "execution_count": 5,
     "metadata": {},
     "output_type": "execute_result"
    }
   ],
   "source": [
    "info.nunique()"
   ]
  },
  {
   "cell_type": "code",
   "execution_count": 14,
   "id": "conventional-vatican",
   "metadata": {},
   "outputs": [],
   "source": [
    "Canada_info=info"
   ]
  },
  {
   "cell_type": "markdown",
   "id": "grave-bundle",
   "metadata": {},
   "source": [
    "# Create database conection"
   ]
  },
  {
   "cell_type": "code",
   "execution_count": 9,
   "id": "african-screw",
   "metadata": {},
   "outputs": [
    {
     "name": "stdout",
     "output_type": "stream",
     "text": [
      "Collecting sqlalchemy\n",
      "  Downloading SQLAlchemy-1.3.22-cp38-cp38-win_amd64.whl (1.2 MB)\n",
      "Installing collected packages: sqlalchemy\n",
      "Successfully installed sqlalchemy-1.3.22\n"
     ]
    }
   ],
   "source": [
    "!pip install sqlalchemy\n",
    "from sqlalchemy import create_engine"
   ]
  },
  {
   "cell_type": "code",
   "execution_count": 11,
   "id": "pediatric-chapter",
   "metadata": {},
   "outputs": [
    {
     "name": "stdout",
     "output_type": "stream",
     "text": [
      "Collecting psycopg2\n",
      "  Using cached psycopg2-2.8.6-cp38-cp38-win_amd64.whl (1.1 MB)\n",
      "Installing collected packages: psycopg2\n",
      "Successfully installed psycopg2-2.8.6\n",
      "Note: you may need to restart the kernel to use updated packages.\n"
     ]
    }
   ],
   "source": [
    "pip install psycopg2"
   ]
  },
  {
   "cell_type": "code",
   "execution_count": 15,
   "id": "sonic-welding",
   "metadata": {},
   "outputs": [],
   "source": [
    "streaming_connection_string = \"postgres:titota@localhost:5432/Canada_VSales\"\n",
    "engine = create_engine(f'postgresql://{streaming_connection_string}')"
   ]
  },
  {
   "cell_type": "code",
   "execution_count": 18,
   "id": "ordinary-airplane",
   "metadata": {},
   "outputs": [
    {
     "data": {
      "text/plain": [
       "['Canada_Vsales']"
      ]
     },
     "execution_count": 18,
     "metadata": {},
     "output_type": "execute_result"
    }
   ],
   "source": [
    "engine.table_names()"
   ]
  },
  {
   "cell_type": "code",
   "execution_count": 17,
   "id": "tough-hello",
   "metadata": {},
   "outputs": [],
   "source": [
    "Canada_info.to_sql(name=\"Canada_Vsales\",con=engine,if_exists=\"replace\",index=True)"
   ]
  },
  {
   "cell_type": "code",
   "execution_count": 19,
   "id": "norman-platform",
   "metadata": {},
   "outputs": [],
   "source": [
    "engine.dispose()"
   ]
  }
 ],
 "metadata": {
  "kernelspec": {
   "display_name": "Python 3",
   "language": "python",
   "name": "python3"
  },
  "language_info": {
   "codemirror_mode": {
    "name": "ipython",
    "version": 3
   },
   "file_extension": ".py",
   "mimetype": "text/x-python",
   "name": "python",
   "nbconvert_exporter": "python",
   "pygments_lexer": "ipython3",
   "version": "3.8.5"
  }
 },
 "nbformat": 4,
 "nbformat_minor": 5
}

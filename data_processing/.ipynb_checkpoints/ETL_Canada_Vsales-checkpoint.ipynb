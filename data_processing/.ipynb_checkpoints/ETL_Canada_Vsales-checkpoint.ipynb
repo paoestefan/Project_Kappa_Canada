{
 "cells": [
  {
   "cell_type": "code",
   "execution_count": 1,
   "id": "ethical-mediterranean",
   "metadata": {},
   "outputs": [],
   "source": [
    "import pandas as pd\n",
    "import geopandas as gpd"
   ]
  },
  {
   "cell_type": "code",
   "execution_count": 5,
   "id": "systematic-ensemble",
   "metadata": {},
   "outputs": [],
   "source": [
    "info=pd.read_csv('Canada_V_Sales_Units_Dollars.csv')"
   ]
  },
  {
   "cell_type": "code",
   "execution_count": 6,
   "id": "placed-timer",
   "metadata": {},
   "outputs": [
    {
     "data": {
      "text/html": [
       "<div>\n",
       "<style scoped>\n",
       "    .dataframe tbody tr th:only-of-type {\n",
       "        vertical-align: middle;\n",
       "    }\n",
       "\n",
       "    .dataframe tbody tr th {\n",
       "        vertical-align: top;\n",
       "    }\n",
       "\n",
       "    .dataframe thead th {\n",
       "        text-align: right;\n",
       "    }\n",
       "</style>\n",
       "<table border=\"1\" class=\"dataframe\">\n",
       "  <thead>\n",
       "    <tr style=\"text-align: right;\">\n",
       "      <th></th>\n",
       "      <th>Date</th>\n",
       "      <th>GEO</th>\n",
       "      <th>Vehicle_type</th>\n",
       "      <th>O_Manu</th>\n",
       "      <th>Sales_dollars</th>\n",
       "      <th>Sales_units</th>\n",
       "    </tr>\n",
       "  </thead>\n",
       "  <tbody>\n",
       "    <tr>\n",
       "      <th>0</th>\n",
       "      <td>2019-12</td>\n",
       "      <td>Newfoundland  &amp; Labrador</td>\n",
       "      <td>Passenger cars</td>\n",
       "      <td>North America</td>\n",
       "      <td>3639</td>\n",
       "      <td>140</td>\n",
       "    </tr>\n",
       "    <tr>\n",
       "      <th>1</th>\n",
       "      <td>2019-12</td>\n",
       "      <td>Newfoundland  &amp; Labrador</td>\n",
       "      <td>Passenger cars</td>\n",
       "      <td>Total overseas</td>\n",
       "      <td>2584</td>\n",
       "      <td>75</td>\n",
       "    </tr>\n",
       "    <tr>\n",
       "      <th>2</th>\n",
       "      <td>2019-12</td>\n",
       "      <td>Newfoundland  &amp; Labrador</td>\n",
       "      <td>Passenger cars</td>\n",
       "      <td>Japan</td>\n",
       "      <td>0</td>\n",
       "      <td>0</td>\n",
       "    </tr>\n",
       "    <tr>\n",
       "      <th>3</th>\n",
       "      <td>2019-12</td>\n",
       "      <td>Newfoundland  &amp; Labrador</td>\n",
       "      <td>Passenger cars</td>\n",
       "      <td>Other countries</td>\n",
       "      <td>0</td>\n",
       "      <td>0</td>\n",
       "    </tr>\n",
       "    <tr>\n",
       "      <th>4</th>\n",
       "      <td>2019-12</td>\n",
       "      <td>Newfoundland  &amp; Labrador</td>\n",
       "      <td>Trucks</td>\n",
       "      <td>North America</td>\n",
       "      <td>43738</td>\n",
       "      <td>945</td>\n",
       "    </tr>\n",
       "  </tbody>\n",
       "</table>\n",
       "</div>"
      ],
      "text/plain": [
       "      Date                       GEO    Vehicle_type           O_Manu  \\\n",
       "0  2019-12  Newfoundland  & Labrador  Passenger cars    North America   \n",
       "1  2019-12  Newfoundland  & Labrador  Passenger cars   Total overseas   \n",
       "2  2019-12  Newfoundland  & Labrador  Passenger cars            Japan   \n",
       "3  2019-12  Newfoundland  & Labrador  Passenger cars  Other countries   \n",
       "4  2019-12  Newfoundland  & Labrador          Trucks    North America   \n",
       "\n",
       "   Sales_dollars  Sales_units  \n",
       "0           3639          140  \n",
       "1           2584           75  \n",
       "2              0            0  \n",
       "3              0            0  \n",
       "4          43738          945  "
      ]
     },
     "execution_count": 6,
     "metadata": {},
     "output_type": "execute_result"
    }
   ],
   "source": [
    "info.head()"
   ]
  },
  {
   "cell_type": "code",
   "execution_count": 7,
   "id": "valuable-courtesy",
   "metadata": {},
   "outputs": [
    {
     "data": {
      "text/plain": [
       "Date             0\n",
       "GEO              0\n",
       "Vehicle_type     0\n",
       "O_Manu           0\n",
       "Sales_dollars    0\n",
       "Sales_units      0\n",
       "dtype: int64"
      ]
     },
     "execution_count": 7,
     "metadata": {},
     "output_type": "execute_result"
    }
   ],
   "source": [
    "info.isnull().sum()"
   ]
  },
  {
   "cell_type": "code",
   "execution_count": 8,
   "id": "roman-crest",
   "metadata": {},
   "outputs": [
    {
     "data": {
      "text/plain": [
       "Date              12\n",
       "GEO               10\n",
       "Vehicle_type       2\n",
       "O_Manu             4\n",
       "Sales_dollars    675\n",
       "Sales_units      565\n",
       "dtype: int64"
      ]
     },
     "execution_count": 8,
     "metadata": {},
     "output_type": "execute_result"
    }
   ],
   "source": [
    "info.nunique()"
   ]
  },
  {
   "cell_type": "code",
   "execution_count": 9,
   "id": "lovely-partition",
   "metadata": {},
   "outputs": [],
   "source": [
    "Canada_info=info"
   ]
  },
  {
   "cell_type": "markdown",
   "id": "sublime-lottery",
   "metadata": {},
   "source": [
    "# Create database conection"
   ]
  },
  {
   "cell_type": "code",
   "execution_count": 10,
   "id": "accepted-helicopter",
   "metadata": {},
   "outputs": [
    {
     "name": "stdout",
     "output_type": "stream",
     "text": [
      "Requirement already satisfied: sqlalchemy in c:\\users\\pao\\anaconda3\\envs\\geopandas\\lib\\site-packages (1.3.22)\n"
     ]
    }
   ],
   "source": [
    "!pip install sqlalchemy\n",
    "from sqlalchemy import create_engine"
   ]
  },
  {
   "cell_type": "code",
   "execution_count": 11,
   "id": "genuine-office",
   "metadata": {},
   "outputs": [
    {
     "name": "stdout",
     "output_type": "stream",
     "text": [
      "Requirement already satisfied: psycopg2 in c:\\users\\pao\\anaconda3\\envs\\geopandas\\lib\\site-packages (2.8.6)\n",
      "Note: you may need to restart the kernel to use updated packages.\n"
     ]
    }
   ],
   "source": [
    "pip install psycopg2"
   ]
  },
  {
   "cell_type": "code",
   "execution_count": 12,
   "id": "isolated-omaha",
   "metadata": {},
   "outputs": [],
   "source": [
    "streaming_connection_string = \"postgres:titota@localhost:5432/Canada_VSales\"\n",
    "engine = create_engine(f'postgresql://{streaming_connection_string}')"
   ]
  },
  {
   "cell_type": "code",
   "execution_count": 13,
   "id": "union-continent",
   "metadata": {},
   "outputs": [
    {
     "data": {
      "text/plain": [
       "['Canada_Vsales', 'Canada_Vsales_Bunits']"
      ]
     },
     "execution_count": 13,
     "metadata": {},
     "output_type": "execute_result"
    }
   ],
   "source": [
    "engine.table_names()"
   ]
  },
  {
   "cell_type": "code",
   "execution_count": 14,
   "id": "turkish-queensland",
   "metadata": {},
   "outputs": [],
   "source": [
    "Canada_info.to_sql(name=\"Canada_Vsales_Bunits\",con=engine,if_exists=\"replace\",index=False)"
   ]
  },
  {
   "cell_type": "code",
   "execution_count": 15,
   "id": "light-state",
   "metadata": {},
   "outputs": [],
   "source": [
    "engine.dispose()"
   ]
  }
 ],
 "metadata": {
  "kernelspec": {
   "display_name": "Python 3",
   "language": "python",
   "name": "python3"
  },
  "language_info": {
   "codemirror_mode": {
    "name": "ipython",
    "version": 3
   },
   "file_extension": ".py",
   "mimetype": "text/x-python",
   "name": "python",
   "nbconvert_exporter": "python",
   "pygments_lexer": "ipython3",
   "version": "3.8.5"
  }
 },
 "nbformat": 4,
 "nbformat_minor": 5
}
